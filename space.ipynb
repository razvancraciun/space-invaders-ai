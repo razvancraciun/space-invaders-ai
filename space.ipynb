{
  "nbformat": 4,
  "nbformat_minor": 0,
  "metadata": {
    "colab": {
      "name": "space.ipynb",
      "provenance": [],
      "collapsed_sections": [
        "vFAgCvAgsh1X",
        "LE3atxGVstjj"
      ],
      "include_colab_link": true
    },
    "kernelspec": {
      "name": "python3",
      "display_name": "Python 3"
    },
    "accelerator": "GPU"
  },
  "cells": [
    {
      "cell_type": "markdown",
      "metadata": {
        "id": "view-in-github",
        "colab_type": "text"
      },
      "source": [
        "<a href=\"https://colab.research.google.com/github/razvancraciun/space-invaders-ai/blob/master/space.ipynb\" target=\"_parent\"><img src=\"https://colab.research.google.com/assets/colab-badge.svg\" alt=\"Open In Colab\"/></a>"
      ]
    },
    {
      "cell_type": "code",
      "metadata": {
        "id": "NTQaNHZ0qfMv",
        "colab_type": "code",
        "colab": {}
      },
      "source": [
        "EPSILON = 1\n",
        "EPSILON_MIN = 0.01\n",
        "EPSILON_DEC = 0.9995\n",
        "LEARNING_RATE = 0.001"
      ],
      "execution_count": 0,
      "outputs": []
    },
    {
      "cell_type": "markdown",
      "metadata": {
        "id": "d_hLZ5F6snHo",
        "colab_type": "text"
      },
      "source": [
        "## Imports"
      ]
    },
    {
      "cell_type": "code",
      "metadata": {
        "id": "57smLDC4qyC4",
        "colab_type": "code",
        "colab": {}
      },
      "source": [
        "import numpy as np\n",
        "import torch\n",
        "import torch.nn as nn\n",
        "import gym"
      ],
      "execution_count": 0,
      "outputs": []
    },
    {
      "cell_type": "markdown",
      "metadata": {
        "id": "vFAgCvAgsh1X",
        "colab_type": "text"
      },
      "source": [
        "## Buffer"
      ]
    },
    {
      "cell_type": "code",
      "metadata": {
        "id": "WF_zW2MgnJTc",
        "colab_type": "code",
        "colab": {}
      },
      "source": [
        "class ReplayBuffer:\n",
        "    def __init__(self, size, state_shape, n_actions):\n",
        "        self.size = size\n",
        "        self.count = 0\n",
        "        self.from_states = np.zeros( (self.size, state_shape) ) \n",
        "        self.to_states = np.zeros( (self.size, state_shape) )\n",
        "        self.actions = np.zeros(self.size, dtype=np.int8)\n",
        "        self.rewards = np.zeros(self.size)\n",
        "        self.terminals = np.zeros(self.size)\n",
        "\n",
        "    def store(self, from_state, action, reward, to_state, done):\n",
        "        index = self.count % self.size\n",
        "        self.from_states[index] = from_state\n",
        "        self.to_states[index] = to_state\n",
        "        self.actions[index] = action\n",
        "        self.rewards[index] = self.size\n",
        "        self.terminals[index] = 1 - int(done)\n",
        "        self.count += 1\n",
        "\n",
        "    def sample(self, batch_size):\n",
        "        size = min(self.count, self.size)\n",
        "        batch = np.random.choice(size, batch_size)\n",
        "\n",
        "        from_states = self.from_states[batch]\n",
        "        to_states = self.to_states[batch]\n",
        "        actions = self.actions[batch]\n",
        "        rewards = self.rewards[batch]\n",
        "        terminals = self.terminals[batch]\n",
        "\n",
        "        return from_states, actions, rewards, to_states, terminals "
      ],
      "execution_count": 0,
      "outputs": []
    },
    {
      "cell_type": "markdown",
      "metadata": {
        "id": "LE3atxGVstjj",
        "colab_type": "text"
      },
      "source": [
        "## Model"
      ]
    },
    {
      "cell_type": "code",
      "metadata": {
        "id": "vOSRIyJ2qhpG",
        "colab_type": "code",
        "colab": {}
      },
      "source": [
        "class Model(nn.Module):\n",
        "    def __init__(self, input_channels, output_shape, learning_rate):\n",
        "        super(Model, self).__init__()\n",
        "        self.block1 = nn.Sequential(\n",
        "            nn.Conv2d(input_channels,32, 3, padding=1, stride=2),\n",
        "            nn.BatchNorm2d(32),\n",
        "            nn.ReLU(),\n",
        "            nn.Conv2d(32, 64, 3, stride=2, padding=1),\n",
        "            nn.BatchNorm2d(64),\n",
        "            nn.ReLU()\n",
        "        )\n",
        "\n",
        "        self.block2 = nn.Sequential(\n",
        "            nn.Conv2d(64, 128, 3, padding=1, stride=2),\n",
        "            nn.BatchNorm2d(128),\n",
        "            nn.ReLU(),\n",
        "            nn.Conv2d(128, 256, 3, stride=2, padding=1),\n",
        "            nn.BatchNorm2d(256),\n",
        "            nn.ReLU()\n",
        "        )\n",
        "\n",
        "        self.block3 = nn.Sequential(\n",
        "            nn.Conv2d(256, 256, 3, padding=1, stride=1),\n",
        "            nn.BatchNorm2d(256),\n",
        "            nn.ReLU(),\n",
        "            nn.Conv2d(256, 512, 3, stride=2, padding=1),\n",
        "            nn.BatchNorm2d(512),\n",
        "            nn.ReLU()\n",
        "        )\n",
        "\n",
        "        self.fc = nn.Sequential(\n",
        "            nn.Flatten(),\n",
        "            nn.Linear(512 * 6 * 5, 256),\n",
        "            nn.Linear(256, output_shape)\n",
        "        )\n",
        "       \n",
        "\n",
        "        self.optimizer = torch.optim.Adam(self.parameters(), learning_rate)\n",
        "        self.loss = nn.MSELoss()\n",
        "\n",
        "    def forward(self, x):\n",
        "        y = self.block1(x)\n",
        "        y = self.block2(y)\n",
        "        y = self.block3(y)\n",
        "        print(y.shape)\n",
        "        y = self.fc(y)\n",
        "        return y\n"
      ],
      "execution_count": 0,
      "outputs": []
    },
    {
      "cell_type": "markdown",
      "metadata": {
        "id": "mFyS8v7c6Vuo",
        "colab_type": "text"
      },
      "source": [
        "## Frame handling"
      ]
    },
    {
      "cell_type": "code",
      "metadata": {
        "id": "fMUHp-5y6adf",
        "colab_type": "code",
        "colab": {}
      },
      "source": [
        "def stack_frames():\n",
        "    pass\n",
        "\n",
        "\n",
        "def init_stack():\n",
        "    pass\n",
        "\n",
        "\n",
        "def preprocess(state):\n",
        "    state = np.moveaxis(state, 2, 0)\n",
        "    r,g,b = state[0], state[1], state[2]\n",
        "    state = 0.3 * r + 0.59 * g + 0.11 * b\n",
        "    state = state[20:-14, 15:-15]\n",
        "    state = torch.Tensor(state)\n",
        "    return state"
      ],
      "execution_count": 0,
      "outputs": []
    },
    {
      "cell_type": "code",
      "metadata": {
        "id": "4ZlEIQP2sTL_",
        "colab_type": "code",
        "colab": {
          "base_uri": "https://localhost:8080/",
          "height": 641
        },
        "outputId": "f150ec88-3e42-483b-be9f-2957dafc76f3"
      },
      "source": [
        "\n",
        "\n",
        "\n",
        "\n",
        "env = gym.make('SpaceInvaders-v0')\n",
        "\n",
        "model = Model(1,1, LEARNING_RATE)\n",
        "state = env.reset()\n",
        "print(state.shape)\n",
        "state = preprocess(state)\n",
        "print(state.shape)\n",
        "\n",
        "state.unsqueeze_(0)\n",
        "state.unsqueeze_(0)\n",
        "\n",
        "pred = model.forward(state)\n",
        "print(model)"
      ],
      "execution_count": 118,
      "outputs": [
        {
          "output_type": "stream",
          "text": [
            "(210, 160, 3)\n",
            "torch.Size([176, 130])\n",
            "torch.Size([1, 512, 6, 5])\n",
            "Model(\n",
            "  (block1): Sequential(\n",
            "    (0): Conv2d(1, 32, kernel_size=(3, 3), stride=(2, 2), padding=(1, 1))\n",
            "    (1): BatchNorm2d(32, eps=1e-05, momentum=0.1, affine=True, track_running_stats=True)\n",
            "    (2): ReLU()\n",
            "    (3): Conv2d(32, 64, kernel_size=(3, 3), stride=(2, 2), padding=(1, 1))\n",
            "    (4): BatchNorm2d(64, eps=1e-05, momentum=0.1, affine=True, track_running_stats=True)\n",
            "    (5): ReLU()\n",
            "  )\n",
            "  (block2): Sequential(\n",
            "    (0): Conv2d(64, 128, kernel_size=(3, 3), stride=(2, 2), padding=(1, 1))\n",
            "    (1): BatchNorm2d(128, eps=1e-05, momentum=0.1, affine=True, track_running_stats=True)\n",
            "    (2): ReLU()\n",
            "    (3): Conv2d(128, 256, kernel_size=(3, 3), stride=(2, 2), padding=(1, 1))\n",
            "    (4): BatchNorm2d(256, eps=1e-05, momentum=0.1, affine=True, track_running_stats=True)\n",
            "    (5): ReLU()\n",
            "  )\n",
            "  (block3): Sequential(\n",
            "    (0): Conv2d(256, 256, kernel_size=(3, 3), stride=(1, 1), padding=(1, 1))\n",
            "    (1): BatchNorm2d(256, eps=1e-05, momentum=0.1, affine=True, track_running_stats=True)\n",
            "    (2): ReLU()\n",
            "    (3): Conv2d(256, 512, kernel_size=(3, 3), stride=(2, 2), padding=(1, 1))\n",
            "    (4): BatchNorm2d(512, eps=1e-05, momentum=0.1, affine=True, track_running_stats=True)\n",
            "    (5): ReLU()\n",
            "  )\n",
            "  (fc): Sequential(\n",
            "    (0): Flatten()\n",
            "    (1): Linear(in_features=15360, out_features=256, bias=True)\n",
            "    (2): Linear(in_features=256, out_features=1, bias=True)\n",
            "  )\n",
            ")\n"
          ],
          "name": "stdout"
        }
      ]
    },
    {
      "cell_type": "code",
      "metadata": {
        "id": "1F0I85_ynFMh",
        "colab_type": "code",
        "outputId": "7fc934ac-022e-4531-dfcb-e3c8529275fa",
        "colab": {
          "base_uri": "https://localhost:8080/",
          "height": 55
        }
      },
      "source": [
        "from google.colab import drive\n",
        "drive.mount('/content/drive')"
      ],
      "execution_count": 107,
      "outputs": [
        {
          "output_type": "stream",
          "text": [
            "Drive already mounted at /content/drive; to attempt to forcibly remount, call drive.mount(\"/content/drive\", force_remount=True).\n"
          ],
          "name": "stdout"
        }
      ]
    }
  ]
}